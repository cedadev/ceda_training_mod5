{
 "metadata": {
  "name": ""
 },
 "nbformat": 3,
 "nbformat_minor": 0,
 "worksheets": [
  {
   "cells": [
    {
     "cell_type": "code",
     "collapsed": false,
     "input": [
      "#%HIDE\n",
      "import markdown\n",
      "from IPython.display import HTML\n",
      "\n",
      "m.convert?\n",
      "\n",
      "m = markdown.Markdown()\n",
      "HTML(m.convert(open('README.md').read()))"
     ],
     "language": "python",
     "metadata": {},
     "outputs": [
      {
       "html": [
        "<h1>Centre of Environmental Data Archival Training Materials</h1>\n",
        "<h2>Module 5 : Data analysis, format conversion and visualisation</h2>\n",
        "<p>This module borrows heavily from many excellent sources of information on the web.  In particular we have used and ammended some complete courses available as IPython notebooks:</p>\n",
        "<ol>\n",
        "<li>\n",
        "<p>SciTools Courses available at https://github.com/SciTools/courses</p>\n",
        "</li>\n",
        "<li>\n",
        "<p>Documentation for the <code>netcdf4-python</code> module at http://netcdf4-python.googlecode.com/svn/trunk/docs/netCDF4-module.html</p>\n",
        "</li>\n",
        "<li>\n",
        "<p>Scientific Python lectures by Robert Johansson https://github.com/jrjohansson/scientific-python-lectures</p>\n",
        "</li>\n",
        "</ol>\n",
        "<p>You can view these notebooks online through the <a href=\"http://nbviewer.ipython.org\">IPython nbviewer</a>.</p>\n",
        "<ol>\n",
        "<li>\n",
        "<p><a href=\"http://nbviewer.ipython.org/github/cedadev/ceda_training_mod5/blob/master/01-Introduction.ipynb\">Introduction</a></p>\n",
        "</li>\n",
        "<li>\n",
        "<p><a href=\"http://nbviewer.ipython.org/github/cedadev/ceda_training_mod5/blob/master/02-Matplotlib_Numpy.ipynb\">Matplotlib and Numpy</a></p>\n",
        "</li>\n",
        "<li>\n",
        "<p><a href=\"http://nbviewer.ipython.org/github/cedadev/ceda_training_mod5/blob/master/03-Creating_NetCDF.ipynb\">Creating NetCDF</a></p>\n",
        "</li>\n",
        "<li>\n",
        "<p><a href=\"http://nbviewer.ipython.org/github/cedadev/ceda_training_mod5/blob/master/04-Atmospheric_Data_Formats.ipynb\">Atmospheric Data Formats</a></p>\n",
        "</li>\n",
        "</ol>\n",
        "<p>The source of modules are available at https://github.com/cedadev/ceda_training_mod5.</p>\n",
        "<h3>TODO</h3>\n",
        "<ul>\n",
        "<li>Instructions on uploading the test data</li>\n",
        "</ul>"
       ],
       "metadata": {},
       "output_type": "pyout",
       "prompt_number": 18,
       "text": [
        "<IPython.core.display.HTML at 0x1055ece50>"
       ]
      }
     ],
     "prompt_number": 18
    },
    {
     "cell_type": "markdown",
     "metadata": {},
     "source": [
      "## Introduction\n",
      "\n",
      "In order to follow the exercises in this module you will need access to a UNIX environment with several specific tools installed.  These tools are all available on the [JASMIN Infrastructure](http://www.jasmin.ac.uk) or can be installed on your own Linux system via the [JASMIN Analysis Platform](http://proj.badc.rl.ac.uk/cedaservices/wiki/JASMIN/AnalysisPlatform).\n",
      "\n",
      "## Getting on JASMIN\n",
      "\n",
      "If you haven't registered for access to [JASMIN](http://www.jasmin.ac.uk) follow the instructions at [**TODO**]()\n",
      "\n",
      "In order to follow the examples you will need to log into a JASMIN machine.  First ensure your ssh-agent is running and has your key installed.  If it isn't start the ssh-agent and add your key.\n",
      "\n",
      "```bash\n",
      "$ ls ~/.ssh\n",
      "config          git-annex-shell id_rsa.pub      known_hosts~\n",
      "config~         id_rsa          known_hosts\n",
      "$ ssh-add -l\n",
      "Could not open a connection to your authentication agent.\n",
      "$ ssh-agent bash\n",
      "$ ssh-add\n",
      "Enter passphrase for /home/spascoe/.ssh/id_rsa: \n",
      "Identity added: /home/spascoe/.ssh/id_rsa (/home/spascoe/.ssh/id_rsa)\n",
      "$ ssh-add -l\n",
      "2048 67:e3:75:67:80:8b:42:8b:39:aa:e6:2a:d1:0f:70:be /home/spascoe/.ssh/id_rsa (RSA)\n",
      "```\n",
      "\n",
      "Note if you are logging in on Windows via Putty you will need to use the Pagent tool instead."
     ]
    },
    {
     "cell_type": "code",
     "collapsed": false,
     "input": [
      "%%sh\n",
      "ssh-add -l"
     ],
     "language": "python",
     "metadata": {},
     "outputs": [
      {
       "output_type": "stream",
       "stream": "stdout",
       "text": [
        "2048 67:e3:75:67:80:8b:42:8b:39:aa:e6:2a:d1:0f:70:be /Users/spascoe/.ssh/id_rsa (RSA)\n"
       ]
      }
     ],
     "prompt_number": 1
    },
    {
     "cell_type": "markdown",
     "metadata": {},
     "source": [
      "Now you can log onto JASMIN.  Ensure you set X-forwarding (```-X```) and ssh authentication agent forwarding (```-A```)\n",
      "\n",
      "```bash\n",
      "$ ssh -XA spascoe@jasmin-sci2.ceda.ac.uk\n",
      "$ ssh -XA jasmin-sci2.ceda.ac.uk\n",
      "\n",
      "            Access to this system is monitored and restricted to\n",
      "            authorised users.   If you do not have authorisation\n",
      "            to use  this system,  you should not  proceed beyond\n",
      "            this point and should disconnect immediately.\n",
      "\n",
      "            Unauthorised use could lead to prosecution.\n",
      "\n",
      "    (See also - http://www.stfc.ac.uk/1382.aspx)\n",
      "\n",
      "Last login: Mon Mar  3 10:12:21 2014 from vpn-2-134.rl.ac.uk\n",
      "\n",
      "    RAL High Performance Computing Services Group\n",
      "\n",
      "    Configured by PXE/Kickstart: 2013-08-21 14:31\n",
      "\n",
      "    Admin contact:               Peter Chiu <peter.chiu@stfc.ac.uk>\n",
      "\n",
      "[spascoe@jasmin-sci2 ~]$ \n",
      "\n",
      "```"
     ]
    },
    {
     "cell_type": "markdown",
     "metadata": {},
     "source": [
      "<hr/>\n",
      "\n",
      "Now you can start IPython to follow the examples.\n",
      "\n",
      "$ ipython"
     ]
    }
   ],
   "metadata": {}
  }
 ]
}