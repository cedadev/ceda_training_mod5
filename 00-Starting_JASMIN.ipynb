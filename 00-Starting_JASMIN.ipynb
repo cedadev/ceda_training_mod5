{
 "metadata": {
  "name": ""
 },
 "nbformat": 3,
 "nbformat_minor": 0,
 "worksheets": [
  {
   "cells": [
    {
     "cell_type": "markdown",
     "metadata": {},
     "source": [
      "# Centre of Environmental Data Archival Training Materials\n",
      "\n",
      "## Module 5 : Data analysis, format conversion and visualisation\n",
      "\n",
      "This module borrows heavily from many excellent sources of information on the web.  In particular we have used and ammended some complete courses available as IPython notebooks:\n",
      "\n",
      " 1. SciTools Courses available at https://github.com/SciTools/courses\n",
      "\n",
      " 2. Documentation for the ```netcdf4-python``` module at http://netcdf4-python.googlecode.com/svn/trunk/docs/netCDF4-module.html\n",
      "\n",
      " 3. Scientific Python lectures by Robert Johansson https://github.com/jrjohansson/scientific-python-lectures\n",
      "\n",
      "You can view these notebooks online through the [IPython nbviewer](http://nbviewer.ipython.org).\n",
      "\n",
      " - 00 [Starting JASMIN](http://nbviewer.ipython.org/github/cedadev/ceda_training_mod5/blob/master/00-Starting_JASMIN.ipynb)\n",
      "\n",
      " - 01 [Matplotlib](http://nbviewer.ipython.org/github/cedadev/ceda_training_mod5/blob/master/01-Matplotlib.ipynb)\n",
      "\n",
      " - 02 [Numpy](http://nbviewer.ipython.org/github/cedadev/ceda_training_mod5/blob/master/02-Numpy.ipynb)\n",
      "\n",
      " - 03 [Creating NetCDF](http://nbviewer.ipython.org/github/cedadev/ceda_training_mod5/blob/master/03-Creating_NetCDF.ipynb)\n",
      "\n",
      " - 04 [Atmospheric Data Formats](http://nbviewer.ipython.org/github/cedadev/ceda_training_mod5/blob/master/04-Atmospheric_Data_Formats.ipynb)\n",
      "\n",
      " - 05 [Exercises](http://nbviewer.ipython.org/github/cedadev/ceda_training_mod5/blob/master/05-Exercises.ipynb)\n",
      "\n",
      "The latest version of this module is available at https://github.com/cedadev/ceda_training_mod5 .\n"
     ]
    },
    {
     "cell_type": "markdown",
     "metadata": {},
     "source": [
      "## Getting Started\n",
      "\n",
      "In order to follow the exercises in this module you will need access to a UNIX environment with several specific tools installed.  We recommend 2 options:\n",
      "\n",
      " 1. You can install the [JASMIN Analysis Platform (JAP)](http://proj.badc.rl.ac.uk/cedaservices/wiki/JASMIN/AnalysisPlatform) on your Redhat Linux computer (CentOS or RHEL).\n",
      " \n",
      " 2. You can get ann account on the [JASMIN Infrastructure](http://www.jasmin.ac.uk)\n",
      " \n",
      "### Option 1: Getting JAP\n",
      " \n",
      "  We provide two easy ways of getting started with a JASMIN Analysis Platform environment. If you want to evaluate the environment you can install a virtual machine within your desktop or laptop. This method will work with any operating system compatible with VirtualBox.\n",
      "\n",
      "You can also install the RPMs onto an existing system. RPMs are available for Red hat Enterprise Linux 6 or a binary-compatible alternative such as CentOS 6.4.\n",
      "\n",
      "<p style=\"text-align: center; font-size: 130%; font-weight: bold\">\n",
      " <a href=\"http://proj.badc.rl.ac.uk/cedaservices/wiki/JASMIN/AnalysisPlatform/Installation#Installation\">Install JAP Now</a>\n",
      "</p>\n",
      "\n",
      "### Option 2: Getting on JASMIN\n",
      "\n",
      "If you haven't registered for access to [JASMIN](http://www.jasmin.ac.uk) follow the [instructions on the CEDA website](http://www.ceda.ac.uk/help/users-guide/jasmin-cems-access/).  This should lead you through creating an `ssh` key pair which is used to login to JASMIN.\n",
      "\n",
      "\n",
      "First ensure your `ssh-agent` is running and has your key installed.  The `ssh-agent` is a small program which remembers your key during your desktop session.  Depending on your desktop operating system it may already be running.\n",
      "\n",
      "Use the `ssh-add -l` command to check whether ssh-agent is running.\n",
      "```\n",
      "$ ssh-add -l\n",
      "Could not open a connection to your authentication agent.\n",
      "```\n",
      "\n",
      "This output indicates the agent is not running so you must start it and tell it to start a new shell:\n",
      "```\n",
      "$ ssh-agent bash\n",
      "$ ssh-add\n",
      "```\n",
      "\n",
      "Now check that your key pair is in the the correct place.  Both the files `id_rsa` and `id_rsa.pub` should be in the directory `~/.ssh/`.  Once they are there you can add the key using `ssh-add`\n",
      "\n",
      "```\n",
      "$ ls ~/.ssh\n",
      "config          git-annex-shell id_rsa.pub      known_hosts~\n",
      "config~         id_rsa          known_hosts\n",
      "$ ssh-add -l\n",
      "Could not open a connection to your authentication agent.\n",
      "$ ssh-agent bash\n",
      "$ ssh-add\n",
      "Enter passphrase for /home/spascoe/.ssh/id_rsa: \n",
      "Identity added: /home/spascoe/.ssh/id_rsa (/home/spascoe/.ssh/id_rsa)\n",
      "```\n",
      "\n",
      "Note if you are logging in on Windows via Putty you will need to use the [Pagent tool](http://www.chiark.greenend.org.uk/~sgtatham/putty/download.html) instead."
     ]
    },
    {
     "cell_type": "markdown",
     "metadata": {},
     "source": [
      "Now you can log onto JASMIN.  Ensure you set X-forwarding (`-X`) and ssh authentication agent forwarding (`-A`)\n",
      "\n",
      "```\n",
      "$ ssh -XA spascoe@jasmin-sci2.ceda.ac.uk\n",
      "\n",
      "            Access to this system is monitored and restricted to\n",
      "            authorised users.   If you do not have authorisation\n",
      "            to use  this system,  you should not  proceed beyond\n",
      "            this point and should disconnect immediately.\n",
      "\n",
      "            Unauthorised use could lead to prosecution.\n",
      "\n",
      "    (See also - http://www.stfc.ac.uk/1382.aspx)\n",
      "\n",
      "Last login: Mon Mar  3 10:12:21 2014 from vpn-2-134.rl.ac.uk\n",
      "\n",
      "    RAL High Performance Computing Services Group\n",
      "\n",
      "    Configured by PXE/Kickstart: 2013-08-21 14:31\n",
      "\n",
      "    Admin contact:               Peter Chiu <peter.chiu@stfc.ac.uk>\n",
      "\n",
      "[spascoe@jasmin-sci2 ~]$ \n",
      "\n",
      "```"
     ]
    },
    {
     "cell_type": "markdown",
     "metadata": {},
     "source": [
      "## Running IPython"
     ]
    },
    {
     "cell_type": "markdown",
     "metadata": {},
     "source": [
      "Now you can start the IPython shell to follow the examples.  The `--matplotlib` switch enables interactive plotting.\n",
      " ```\n",
      " [spascoe@jasmin-sci2 ~]$ ipython --matplotlib\n",
      " ```"
     ]
    },
    {
     "cell_type": "code",
     "collapsed": false,
     "input": [],
     "language": "python",
     "metadata": {},
     "outputs": []
    }
   ],
   "metadata": {}
  }
 ]
}