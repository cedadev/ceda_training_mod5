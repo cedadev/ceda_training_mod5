{
 "metadata": {
  "name": ""
 },
 "nbformat": 3,
 "nbformat_minor": 0,
 "worksheets": [
  {
   "cells": [
    {
     "cell_type": "code",
     "collapsed": false,
     "input": [
      "#%HIDE\n",
      "import markdown\n",
      "from IPython.display import HTML\n",
      "\n",
      "m = markdown.Markdown()\n",
      "HTML(m.convert(open('README.md').read()))"
     ],
     "language": "python",
     "metadata": {},
     "outputs": [
      {
       "ename": "ImportError",
       "evalue": "No module named markdown",
       "output_type": "pyerr",
       "traceback": [
        "\u001b[1;31m---------------------------------------------------------------------------\u001b[0m\n\u001b[1;31mImportError\u001b[0m                               Traceback (most recent call last)",
        "\u001b[1;32m<ipython-input-2-05fa6ebdea13>\u001b[0m in \u001b[0;36m<module>\u001b[1;34m()\u001b[0m\n\u001b[0;32m      1\u001b[0m \u001b[1;31m#%HIDE\u001b[0m\u001b[1;33m\u001b[0m\u001b[1;33m\u001b[0m\u001b[0m\n\u001b[1;32m----> 2\u001b[1;33m \u001b[1;32mimport\u001b[0m \u001b[0mmarkdown\u001b[0m\u001b[1;33m\u001b[0m\u001b[0m\n\u001b[0m\u001b[0;32m      3\u001b[0m \u001b[1;32mfrom\u001b[0m \u001b[0mIPython\u001b[0m\u001b[1;33m.\u001b[0m\u001b[0mdisplay\u001b[0m \u001b[1;32mimport\u001b[0m \u001b[0mHTML\u001b[0m\u001b[1;33m\u001b[0m\u001b[0m\n\u001b[0;32m      4\u001b[0m \u001b[1;33m\u001b[0m\u001b[0m\n\u001b[0;32m      5\u001b[0m \u001b[0mm\u001b[0m \u001b[1;33m=\u001b[0m \u001b[0mmarkdown\u001b[0m\u001b[1;33m.\u001b[0m\u001b[0mMarkdown\u001b[0m\u001b[1;33m(\u001b[0m\u001b[1;33m)\u001b[0m\u001b[1;33m\u001b[0m\u001b[0m\n",
        "\u001b[1;31mImportError\u001b[0m: No module named markdown"
       ]
      }
     ],
     "prompt_number": 2
    },
    {
     "cell_type": "markdown",
     "metadata": {},
     "source": [
      "## Getting Started\n",
      "\n",
      "In order to follow the exercises in this module you will need access to a UNIX environment with several specific tools installed.  We recommend 2 options:\n",
      "\n",
      " 1. You can install the [JASMIN Analysis Platform (JAP)](http://proj.badc.rl.ac.uk/cedaservices/wiki/JASMIN/AnalysisPlatform) on your Redhat Linux computer (CentOS or RHEL).\n",
      " \n",
      " 2. You can get ann account on the [JASMIN Infrastructure](http://www.jasmin.ac.uk)\n",
      " \n",
      "### Option 1: Getting JAP\n",
      " \n",
      "  We provide two easy ways of getting started with a JASMIN Analysis Platform environment. If you want to evaluate the environment you can install a virtual machine within your desktop or laptop. This method will work with any operating system compatible with VirtualBox.\n",
      "\n",
      "You can also install the RPMs onto an existing system. RPMs are available for Red hat Enterprise Linux 6 or a binary-compatible alternative such as CentOS 6.4.\n",
      "\n",
      "<p style=\"text-align: center; font-size: 130%; font-weight: bold\">\n",
      " <a href=\"http://proj.badc.rl.ac.uk/cedaservices/wiki/JASMIN/AnalysisPlatform/Installation#Installation\">Install JAP Now</a>\n",
      "</p>\n",
      "\n",
      "### Option 2: Getting on JASMIN\n",
      "\n",
      "If you haven't registered for access to [JASMIN](http://www.jasmin.ac.uk) follow the [instructions on the CEDA website](http://www.ceda.ac.uk/help/users-guide/jasmin-cems-access/).  This should lead you through creating an `ssh` key pair which is used to login to JASMIN.\n",
      "\n",
      "\n",
      "First ensure your `ssh-agent` is running and has your key installed.  The `ssh-agent` is a small program which remembers your key during your desktop session.  Depending on your desktop operating system it may already be running.\n",
      "\n",
      "Use the `ssh-add -l` command to check whether ssh-agent is running.\n",
      "```bash\n",
      "$ ssh-add -l\n",
      "Could not open a connection to your authentication agent.\n",
      "```\n",
      "\n",
      "This outputindicates the agent is not running so you must start it and tell it to start a new shell:\n",
      "```bash\n",
      "$ ssh-agent bash\n",
      "$ ssh-add\n",
      "```\n",
      "\n",
      "Now check that your key pair is in the the correct place.  Both the files `id_rsa` and `id_rsa.pub` should be in the directory `~/.ssh/`.  Once they are there you can add the key using `ssh-add`\n",
      "\n",
      "```bash\n",
      "$ ls ~/.ssh\n",
      "config          git-annex-shell id_rsa.pub      known_hosts~\n",
      "config~         id_rsa          known_hosts\n",
      "$ ssh-add -l\n",
      "Could not open a connection to your authentication agent.\n",
      "$ ssh-agent bash\n",
      "$ ssh-add\n",
      "Enter passphrase for /home/spascoe/.ssh/id_rsa: \n",
      "Identity added: /home/spascoe/.ssh/id_rsa (/home/spascoe/.ssh/id_rsa)\n",
      "```\n",
      "\n",
      "Note if you are logging in on Windows via Putty you will need to use the [Pagent tool](http://www.chiark.greenend.org.uk/~sgtatham/putty/download.html) instead."
     ]
    },
    {
     "cell_type": "markdown",
     "metadata": {},
     "source": [
      "Now you can log onto JASMIN.  Ensure you set X-forwarding (`-X`) and ssh authentication agent forwarding (`-A`)\n",
      "\n",
      "```bash\n",
      "$ ssh -XA spascoe@jasmin-sci2.ceda.ac.uk\n",
      "\n",
      "            Access to this system is monitored and restricted to\n",
      "            authorised users.   If you do not have authorisation\n",
      "            to use  this system,  you should not  proceed beyond\n",
      "            this point and should disconnect immediately.\n",
      "\n",
      "            Unauthorised use could lead to prosecution.\n",
      "\n",
      "    (See also - http://www.stfc.ac.uk/1382.aspx)\n",
      "\n",
      "Last login: Mon Mar  3 10:12:21 2014 from vpn-2-134.rl.ac.uk\n",
      "\n",
      "    RAL High Performance Computing Services Group\n",
      "\n",
      "    Configured by PXE/Kickstart: 2013-08-21 14:31\n",
      "\n",
      "    Admin contact:               Peter Chiu <peter.chiu@stfc.ac.uk>\n",
      "\n",
      "[spascoe@jasmin-sci2 ~]$ \n",
      "\n",
      "```"
     ]
    },
    {
     "cell_type": "markdown",
     "metadata": {},
     "source": [
      "## Running IPython"
     ]
    },
    {
     "cell_type": "markdown",
     "metadata": {},
     "source": [
      "\n",
      "Now you can start IPython to follow the examples.\n",
      "\n",
      "```bash\n",
      "$ ipython --matplotlib\n",
      "```"
     ]
    },
    {
     "cell_type": "code",
     "collapsed": false,
     "input": [],
     "language": "python",
     "metadata": {},
     "outputs": []
    }
   ],
   "metadata": {}
  }
 ]
}