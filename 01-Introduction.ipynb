{
 "metadata": {
  "name": ""
 },
 "nbformat": 3,
 "nbformat_minor": 0,
 "worksheets": [
  {
   "cells": [
    {
     "cell_type": "markdown",
     "metadata": {},
     "source": [
      "# Data analysis and visualisation\n",
      "\n",
      "This module borrows heavily from many excellent sources of information on the web.  In particular we have used and ammended some complete courses available as IPython notebooks:\n",
      "\n",
      " 1. SciTools Courses available at https://github.com/SciTools/courses\n",
      " 2. Earthpy.org http://earthpy.org\n",
      " 3. Scientific Python lectures by Robert Johansson https://github.com/jrjohansson/scientific-python-lectures\n",
      " \n",
      "These sources all make use of the IPython notebook technology which allows us to interactively explore data analysis in Python and the command line."
     ]
    },
    {
     "cell_type": "markdown",
     "metadata": {},
     "source": [
      "## Getting on JASMIN\n",
      "\n",
      "In order to follow the examples you will need to log into a JASMIN machine.  First ensure your ssh-agent is running and has your key installed.  If it isn't start the ssh-agent and add your key.\n",
      "\n",
      "```bash\n",
      "$ ls ~/.ssh\n",
      "config          git-annex-shell id_rsa.pub      known_hosts~\n",
      "config~         id_rsa          known_hosts\n",
      "$ ssh-add -l\n",
      "Could not open a connection to your authentication agent.\n",
      "$ ssh-agent bash\n",
      "$ ssh-add\n",
      "Enter passphrase for /home/spascoe/.ssh/id_rsa: \n",
      "Identity added: /home/spascoe/.ssh/id_rsa (/home/spascoe/.ssh/id_rsa)\n",
      "$ ssh-add -l\n",
      "2048 67:e3:75:67:80:8b:42:8b:39:aa:e6:2a:d1:0f:70:be /home/spascoe/.ssh/id_rsa (RSA)\n",
      "```\n",
      "\n",
      "Note if you are logging in on Windows via Putty you will need to use the Pagent tool instead."
     ]
    },
    {
     "cell_type": "code",
     "collapsed": false,
     "input": [
      "%%sh\n",
      "ssh-add -l"
     ],
     "language": "python",
     "metadata": {},
     "outputs": [
      {
       "output_type": "stream",
       "stream": "stdout",
       "text": [
        "2048 67:e3:75:67:80:8b:42:8b:39:aa:e6:2a:d1:0f:70:be /Users/spascoe/.ssh/id_rsa (RSA)\n"
       ]
      }
     ],
     "prompt_number": 1
    },
    {
     "cell_type": "markdown",
     "metadata": {},
     "source": [
      "Now you can log onto JASMIN.  Ensure you set X-forwarding (```-X```) and ssh authentication agent forwarding (```-A```)\n",
      "\n",
      "```bash\n",
      "$ ssh -XA spascoe@jasmin-sci2.ceda.ac.uk\n",
      "$ ssh -XA jasmin-sci2.ceda.ac.uk\n",
      "\n",
      "            Access to this system is monitored and restricted to\n",
      "            authorised users.   If you do not have authorisation\n",
      "            to use  this system,  you should not  proceed beyond\n",
      "            this point and should disconnect immediately.\n",
      "\n",
      "            Unauthorised use could lead to prosecution.\n",
      "\n",
      "    (See also - http://www.stfc.ac.uk/1382.aspx)\n",
      "\n",
      "Last login: Mon Mar  3 10:12:21 2014 from vpn-2-134.rl.ac.uk\n",
      "\n",
      "    RAL High Performance Computing Services Group\n",
      "\n",
      "    Configured by PXE/Kickstart: 2013-08-21 14:31\n",
      "\n",
      "    Admin contact:               Peter Chiu <peter.chiu@stfc.ac.uk>\n",
      "\n",
      "[spascoe@jasmin-sci2 ~]$ \n",
      "\n",
      "```"
     ]
    },
    {
     "cell_type": "markdown",
     "metadata": {},
     "source": [
      "<hr/>\n",
      "\n",
      "Now you can start IPython to follow the examples.\n",
      "\n",
      "$ ipython"
     ]
    }
   ],
   "metadata": {}
  }
 ]
}