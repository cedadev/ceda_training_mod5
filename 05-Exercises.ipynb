{
 "metadata": {
  "name": ""
 },
 "nbformat": 3,
 "nbformat_minor": 0,
 "worksheets": [
  {
   "cells": [
    {
     "cell_type": "markdown",
     "metadata": {},
     "source": [
      "# Exercises"
     ]
    },
    {
     "cell_type": "code",
     "collapsed": false,
     "input": [
      "import numpy as np\n",
      "from pylab import *\n",
      "from matplotlib import pyplot as plt"
     ],
     "language": "python",
     "metadata": {},
     "outputs": [],
     "prompt_number": 18
    },
    {
     "cell_type": "markdown",
     "metadata": {},
     "source": [
      "<hr/>\n",
      "## Exercise 1.1 : Starting Matplotlib\n",
      "\n",
      "When run from the command-line IPython behaves slightly differently to within a notebook.  We will now try running the code from the Matplotlib introduction within an IPython terminal.\n",
      "\n",
      "#### Part 1\n",
      "\n",
      "Start IPython from the UNIX shell and import pylab.  Reproduce the plot of $y=x^2$ as demonstrated in the introduction.  \n",
      "\n",
      "How is the plot displayed?  What options do you have for interacting with the plot?\n",
      "\n",
      "#### Part 2\n",
      "\n",
      "Create a plot of the function $y=x^3$ between $-10 < x < -10$.  \n",
      "\n",
      "Try to make the style a green continuous line with cross-shaped point markers.\n"
     ]
    },
    {
     "cell_type": "markdown",
     "metadata": {},
     "source": [
      "## Exercise 1.2 : Plot layout and saving\n",
      "\n",
      "#### Part 1\n",
      "\n",
      " 1. Using Matplotlib's object orientated API, plot the two functions on the same graph:\n",
      "\n",
      "   * $y_1 = x$\n",
      " \n",
      "   * $y_2 = x^2$ + 6\n",
      "\n",
      " 2. Add suitable legend and axis labels.  \n",
      "\n",
      " 3. Save the figure as a PDF file and open it in a PDF viewer to check it was successful."
     ]
    },
    {
     "cell_type": "markdown",
     "metadata": {},
     "source": [
      "#### Part 2\n",
      "\n",
      "Create 2 plots side by side showing a close-up of the two intersecting points between $y_1$ and $y_2$.  In both plots display the gridlines to help identify the intersects.  Thus visually confirm the solution to the equation $x^2 - x - 6 = 0$\n"
     ]
    },
    {
     "cell_type": "markdown",
     "metadata": {},
     "source": [
      "## Exercise 1.3 : Plotting 2D data\n",
      "\n",
      "#### Part 1\n",
      "\n",
      "Use the code below to generate the martix $Z$.  Plot $Z$ using the `imshow()`."
     ]
    },
    {
     "cell_type": "code",
     "collapsed": false,
     "input": [
      "from scipy.stats import norm\n",
      "\n",
      "def f(a, x):\n",
      "    y = norm(loc=a).pdf(x)\n",
      "    Y = np.reshape(y, (1, len(y)))\n",
      "    return Y.T * Y\n",
      "\n",
      "x = np.linspace(-4, 4, 50)\n",
      "Z = f(-1, x) + f(1, x)\n"
     ],
     "language": "python",
     "metadata": {},
     "outputs": [],
     "prompt_number": 17
    },
    {
     "cell_type": "markdown",
     "metadata": {},
     "source": [
      "#### Part 2\n",
      "\n",
      "Plot $Z$ using `contour()` with labelled contour lines.  Ensure the axes covers the range $[-4, 4]$ in x and y.  How does this plot differ from the previous one and why?"
     ]
    },
    {
     "cell_type": "markdown",
     "metadata": {},
     "source": [
      "#### Part 3\n",
      "\n",
      "Combine these two plots into a single overlayed plot showing a colour field and contour plots whist maintaining the correct x and y axis ranges.  \n",
      "\n",
      "*HINT: you will need to flip $Z$ vertically*"
     ]
    },
    {
     "cell_type": "markdown",
     "metadata": {},
     "source": [
      "<hr/>\n",
      "\n",
      "## Exercise 2.1 : Numpy arrays\n",
      "\n",
      "#### Part 1\n",
      "\n",
      "Create and print the following arrays\n",
      " \n",
      " 1. An array counting from 1 to 20 inclusive\n",
      "\n",
      " 1. The array of multiples of 3 greater than 0 and less than 30\n",
      " \n",
      " 1. The array of 8 equally spaced floats $x$ where $0 \\leq x \\leq 1$\n",
      "\n",
      " 1. The array of integers $\\sum\\limits_{n=1}^{10} 2n+n^2$"
     ]
    },
    {
     "cell_type": "markdown",
     "metadata": {
      "slideshow": {
       "slide_type": "slide"
      }
     },
     "source": [
      "<hr/>\n",
      "\n",
      "#### Part 2. Broadcasting\n",
      "\n",
      " 1. Use ``np.arange`` and ``reshape`` to create the array\n",
      "    ```\n",
      "    A = [[1 2 3 4]\n",
      "         [5 6 7 8]]\n",
      "    ```\n",
      "    \n",
      " 2. Use ``np.array`` to create the array\n",
      "    ```\n",
      "    B = [1 2]\n",
      "    ```\n",
      "    \n",
      " 3. Use broadcasting to add ``B`` to ``A`` to create the final array\n",
      "    ```\n",
      "    A + B = [[2  3  4  5]\n",
      "             [7  8  9 10]]\n",
      "    ```\n",
      "\n",
      "Hint: what shape does ``B`` have to be changed to?"
     ]
    },
    {
     "cell_type": "markdown",
     "metadata": {},
     "source": [
      "\n",
      " "
     ]
    },
    {
     "cell_type": "markdown",
     "metadata": {
      "slideshow": {
       "slide_type": "slide"
      }
     },
     "source": [
      "## Exercise 2.2 : trapezoidal integration\n",
      "\n",
      "In this exercise, you are tasked with implementing the simple trapezoid rule\n",
      "formula for numerical integration. If we want to compute the definite integral\n",
      "\n",
      "$$\n",
      "     \\int_{a}^{b}f(x)dx\n",
      "$$\n",
      "\n",
      "we can partition the integration interval $[a,b]$ into smaller subintervals. We then\n",
      "approximate the area under the curve for each subinterval by calculating the area of\n",
      "the trapezoid created by linearly interpolating between the two function values\n",
      "at each end of the subinterval:\n",
      "\n",
      "![Illustration of the trapezoidal rule](http://raw.github.com/SciTools/courses/master/course_content/images/trapezoidal_rule.png)"
     ]
    },
    {
     "cell_type": "markdown",
     "metadata": {
      "slideshow": {
       "slide_type": "subslide"
      }
     },
     "source": [
      "For a pre-computed $y$ array (where $y = f(x)$ at discrete samples) the trapezoidal rule equation is:\n",
      "\n",
      "$$\n",
      "   \\int_{a}^{b}f(x)dx\\approx\\frac{1}{2}\\sum_{i=1}^{n}\\left(x_{i}-x_{i-1}\\right)\\left(y_{i}+y_{i-1}\\right).\n",
      "$$\n",
      "\n",
      "In pure python, this can be written as:\n",
      "\n",
      "    def trapz_slow(x, y):\n",
      "        area = 0.\n",
      "        for i in range(1, len(x)):\n",
      "            area += (x[i] - x[i-1]) * (y[i] + y[i-1])\n",
      "        return area / 2"
     ]
    },
    {
     "cell_type": "markdown",
     "metadata": {
      "slideshow": {
       "slide_type": "subslide"
      }
     },
     "source": [
      "#### Part 1\n",
      "\n",
      "Create two arrays $x$ and $y$, where $x$ is a linearly spaced array in the interval $[0, 3]$ of length 10, and $y$ represents the function $f(x) = x^2$ sampled at $x$."
     ]
    },
    {
     "cell_type": "markdown",
     "metadata": {
      "slideshow": {
       "slide_type": "-"
      }
     },
     "source": [
      "#### Part 2\n",
      "\n",
      "Use indexing (not a for loop) to find the 9 values representing $y_{i}+y_{i-1}$ for $i$ between 1 and 9 (where $y_{0}$ is the first element of $y$).\n",
      "\n",
      "*Hint: What indexing would be needed to get all but the last element of the 1d array $y$. Similarly what indexing would be needed to get all but the first element of a 1d array.*"
     ]
    },
    {
     "cell_type": "markdown",
     "metadata": {
      "slideshow": {
       "slide_type": "-"
      }
     },
     "source": [
      "#### Part 3\n",
      "\n",
      "Write a function `trapz(x, y)` that applies the trapezoid formula to pre-computed values, where `x` and `y` are 1-d arrays. The function should not use a for loop."
     ]
    },
    {
     "cell_type": "markdown",
     "metadata": {
      "slideshow": {
       "slide_type": "-"
      }
     },
     "source": [
      "#### Part 4\n",
      "\n",
      "Verify that your function is correct by using the arrays created in #1 as input to ``trapz``. Your answer should be a close approximation of $\\int_0^3 x^2$ which is $9$."
     ]
    },
    {
     "cell_type": "markdown",
     "metadata": {
      "slideshow": {
       "slide_type": "-"
      }
     },
     "source": [
      "#### Part 5 (extension)\n",
      "\n",
      "``scipy.integrate`` provides many common integration schemes.  Find a suitable function to perform the trapezoidal integration implemented above and check its result with your own:"
     ]
    },
    {
     "cell_type": "markdown",
     "metadata": {},
     "source": [
      "<hr/>\n",
      "\n",
      "## Exersice 3 : Creating NetCDF\n",
      "\n",
      "In this exercise we will create a CF-NetCDF file containing a time series of synthetic Ozone data.\n",
      "\n",
      "#### Part 1\n",
      "\n",
      " 1. Use the function `netcdftime.date2num()` to create a numpy array containing time in seconds from `2013-03-19 00:00:00` until `2013-03-19 12:00:00` at 5 minute resolution.  \n",
      "\n",
      " 1. Print the first 5 timepoints in date and time format.\n",
      "\n",
      " 1. Print the last 5 timepoints in date and time format."
     ]
    },
    {
     "cell_type": "markdown",
     "metadata": {},
     "source": [
      "#### Part 2\n",
      "\n",
      " 1. Create a NetCDF file containing a single data variable `o3` using the time axis created in part 1.  \n",
      " 1. Fill the data variable with a sin wave between 0 and $\\pi$ radians with a peak at 300 ppb.  Plot the resulting variable using `pyplot.plot()`.\n",
      " 1. Add noise of $+/- 10 \\text{ppb}$ to the data using the function `np.random.normal()`. Plot the resulting variable using `pyplot.plot()`."
     ]
    },
    {
     "cell_type": "markdown",
     "metadata": {},
     "source": [
      "#### Part 3\n",
      "\n",
      "1. Add CF-Metadata **TODO: what metadata?**\n",
      "2. Check the CF-compliance of your file with the ``cf-checker`` command.  What extra metadata is required?\n",
      "3. Make your file CF-compliant"
     ]
    },
    {
     "cell_type": "markdown",
     "metadata": {},
     "source": [
      "<hr/>\n",
      "\n",
      "## Exercise 4.1 : Converting PP files to NetCDF\n",
      "\n",
      "#### Part 1\n",
      "\n",
      "Open each PP file in the data directory of the form `aatzja.pm90*.pp` using cf-python.  Create a list containing the field  `cloud_area_fraction` from each file.  *HINT: You can use the function glob.glob to select every PP file in the data directory*.\n",
      "\n",
      "#### Part 2\n",
      "\n",
      "Apply the function `cf.aggregate()` to the list of fields and save the result in the varaible `cloud_agg`.  Print this variable; what has the `aggregate()` function returned?\n",
      " \n",
      "#### Part 3\n",
      "\n",
      "Save the result in the file `data/ex_4.1.nc`.  Use `ncdump -h` to investigate the result.\n",
      " "
     ]
    },
    {
     "cell_type": "markdown",
     "metadata": {},
     "source": [
      "## Exercise 4.2 : Averaging and plotting gridded data\n",
      "\n",
      "Although both cf-python and IRIS can calculate aggregate statistics CDO offers the most convenient solution to averaging whole files. \n",
      "\n",
      "#### Part 1\n",
      "\n",
      "Use the CDO operator `zonmean` to calculate the zonal mean of the `ex_4.1.nc`.  You can use the the command `cdo -h zonmean` to find out the syntax.\n",
      "\n",
      "#### Part 2\n",
      "\n",
      "Load the output of Part 1 into IRIS and plot the result with `iris.quickplot.contourf()`.  "
     ]
    },
    {
     "cell_type": "code",
     "collapsed": false,
     "input": [],
     "language": "python",
     "metadata": {},
     "outputs": []
    }
   ],
   "metadata": {}
  }
 ]
}