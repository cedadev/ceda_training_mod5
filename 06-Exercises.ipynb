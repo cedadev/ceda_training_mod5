{
 "metadata": {
  "name": ""
 },
 "nbformat": 3,
 "nbformat_minor": 0,
 "worksheets": [
  {
   "cells": [
    {
     "cell_type": "heading",
     "level": 1,
     "metadata": {},
     "source": [
      "Exercises"
     ]
    },
    {
     "cell_type": "code",
     "collapsed": false,
     "input": [
      "import numpy as np\n",
      "from pylab import *"
     ],
     "language": "python",
     "metadata": {},
     "outputs": [],
     "prompt_number": 3
    },
    {
     "cell_type": "markdown",
     "metadata": {},
     "source": [
      "<hr/>\n",
      "## Exercise 1.1 : Starting Matplotlib\n",
      "\n",
      "When run from the command-line IPython behaves slightly differently to within a notebook.  We will now try running the code from the Matplotlib introduction within an IPython terminal.\n",
      "\n",
      "#### Part 1\n",
      "\n",
      "Start IPython and import pylab.  Reproduce the plot of $y=x^2$ as demonstrated in the introduction.  \n",
      "\n",
      "How is the plot displayed?  What options do you have for interacting with the plot?\n",
      "\n",
      "#### Part 2\n",
      "\n",
      "Create a plot of the function $y=x^3$ between $-10 < x < -10$.  \n",
      "\n",
      "Try to make the style a green continuous line with cross-shaped point markers.\n"
     ]
    },
    {
     "cell_type": "markdown",
     "metadata": {},
     "source": [
      "## Exercise 1.2 : Plot layout and saving\n",
      "\n",
      "#### Part 1\n",
      "\n",
      " 1. Using Matplotlib's object orientated API, plot the two functions on the same graph:\n",
      "\n",
      "   * $y_1 = x$\n",
      " \n",
      "   * $y_2 = x^2$ + 6\n",
      "\n",
      " 2. Add suitable legend and axis labels.  \n",
      "\n",
      " 3. Save the figure as a PDF file and open it in a PDF viewer to check it was successful."
     ]
    },
    {
     "cell_type": "markdown",
     "metadata": {},
     "source": [
      "#### Part 2\n",
      "\n",
      "Create 2 plots side by side showing a close-up of the two intersecting points between $y_1$ and $y_2$.  In both plots display the gridlines to help identify the intersects.  Thus visually confirm the solution to the equation $x^2 - x - 6 = 0$\n"
     ]
    },
    {
     "cell_type": "markdown",
     "metadata": {},
     "source": [
      "## Exercise 1.3 : Plotting 2D data\n",
      "\n",
      "**TODO**"
     ]
    },
    {
     "cell_type": "markdown",
     "metadata": {},
     "source": [
      "## Exercise 2.1 : Numpy arrays\n",
      "\n",
      "#### Part 1\n",
      "\n",
      "Create and print the following arrays\n",
      " \n",
      " 1. An array counting from 1 to 20 inclusive\n",
      "\n",
      " 1. The array of multiples of 3 greater than 0 and less than 30\n",
      " \n",
      " 1. The array of 8 equally spaced floats $x$ where $0 \\leq x \\leq 1$\n",
      "\n",
      " 1. The array of integers $\\sum\\limits_{n=1}^{10} 2n+n^2$"
     ]
    },
    {
     "cell_type": "markdown",
     "metadata": {
      "slideshow": {
       "slide_type": "slide"
      }
     },
     "source": [
      "<hr/>\n",
      "\n",
      "#### Part 2. Broadcasting\n",
      "\n",
      " 1. Use ``np.arange`` and ``reshape`` to create the array\n",
      "    ```\n",
      "    A = [[1 2 3 4]\n",
      "         [5 6 7 8]]\n",
      "    ```\n",
      "    \n",
      " 2. Use ``np.array`` to create the array\n",
      "    ```\n",
      "    B = [1 2]\n",
      "    ```\n",
      "    \n",
      " 3. Use broadcasting to add ``B`` to ``A`` to create the final array\n",
      "    ```\n",
      "    A + B = [[2  3  4  5]\n",
      "             [7  8  9 10]]\n",
      "    ```\n",
      "\n",
      "Hint: what shape does ``B`` have to be changed to?"
     ]
    },
    {
     "cell_type": "markdown",
     "metadata": {},
     "source": [
      "\n",
      " "
     ]
    },
    {
     "cell_type": "markdown",
     "metadata": {
      "slideshow": {
       "slide_type": "slide"
      }
     },
     "source": [
      "## Exercise 2.2 : trapezoidal integration\n",
      "\n",
      "In this exercise, you are tasked with implementing the simple trapezoid rule\n",
      "formula for numerical integration. If we want to compute the definite integral\n",
      "\n",
      "$$\n",
      "     \\int_{a}^{b}f(x)dx\n",
      "$$\n",
      "\n",
      "we can partition the integration interval $[a,b]$ into smaller subintervals. We then\n",
      "approximate the area under the curve for each subinterval by calculating the area of\n",
      "the trapezoid created by linearly interpolating between the two function values\n",
      "at each end of the subinterval:\n",
      "\n",
      "![Illustration of the trapezoidal rule](http://raw.github.com/SciTools/courses/master/course_content/images/trapezoidal_rule.png)"
     ]
    },
    {
     "cell_type": "markdown",
     "metadata": {
      "slideshow": {
       "slide_type": "subslide"
      }
     },
     "source": [
      "For a pre-computed $y$ array (where $y = f(x)$ at discrete samples) the trapezoidal rule equation is:\n",
      "\n",
      "$$\n",
      "   \\int_{a}^{b}f(x)dx\\approx\\frac{1}{2}\\sum_{i=1}^{n}\\left(x_{i}-x_{i-1}\\right)\\left(y_{i}+y_{i-1}\\right).\n",
      "$$\n",
      "\n",
      "In pure python, this can be written as:\n",
      "\n",
      "    def trapz_slow(x, y):\n",
      "        area = 0.\n",
      "        for i in range(1, len(x)):\n",
      "            area += (x[i] - x[i-1]) * (y[i] + y[i-1])\n",
      "        return area / 2"
     ]
    },
    {
     "cell_type": "markdown",
     "metadata": {
      "slideshow": {
       "slide_type": "subslide"
      }
     },
     "source": [
      "#### Part 1\n",
      "\n",
      "Create two arrays $x$ and $y$, where $x$ is a linearly spaced array in the interval $[0, 3]$ of length 10, and $y$ represents the function $f(x) = x^2$ sampled at $x$."
     ]
    },
    {
     "cell_type": "markdown",
     "metadata": {
      "slideshow": {
       "slide_type": "-"
      }
     },
     "source": [
      "#### Part 2\n",
      "\n",
      "Use indexing (not a for loop) to find the 9 values representing $y_{i}+y_{i-1}$ for $i$ between 1 and 9 (where $y_{0}$ is the first element of $y$).\n",
      "\n",
      "Hint: What indexing would be needed to get all but the last element of the 1d array **``y``**. Similarly what indexing would be needed to get all but the first element of a 1d array."
     ]
    },
    {
     "cell_type": "markdown",
     "metadata": {
      "slideshow": {
       "slide_type": "-"
      }
     },
     "source": [
      "#### Part 3\n",
      "\n",
      "Write a function `trapz(x, y)` that applies the trapezoid formula to pre-computed values, where `x` and `y` are 1-d arrays. The function should not use a for loop."
     ]
    },
    {
     "cell_type": "markdown",
     "metadata": {
      "slideshow": {
       "slide_type": "-"
      }
     },
     "source": [
      "#### Part 4\n",
      "\n",
      "Verify that your function is correct by using the arrays created in #1 as input to ``trapz``. Your answer should be a close approximation of $\\int_0^3 x^2$ which is $9$."
     ]
    },
    {
     "cell_type": "markdown",
     "metadata": {
      "slideshow": {
       "slide_type": "-"
      }
     },
     "source": [
      "#### Part 5 (extension)\n",
      "\n",
      "``scipy.integrate`` provides many common integration schemes.  Find a suitable function to perform the trapezoidal integration implemented above and check its result with your own:"
     ]
    },
    {
     "cell_type": "markdown",
     "metadata": {},
     "source": [
      "<hr/>\n",
      "\n",
      "## Exersice 3 : Creating NetCDF\n",
      "\n",
      "In this exercise we will create a CF-NetCDF file containing a time series of synthetic Ozone data.\n",
      "\n",
      "#### Part 1\n",
      "\n",
      " 1. Use the function `netcdftime.date2num()` to create a numpy array containing time in seconds from `2013-03-19 00:00:00` until `2013-03-19 12:00:00` at 5 minute resolution.  \n",
      "\n",
      " 1. Print the first 5 timepoints in date and time format.\n",
      "\n",
      " 1. Print the last 5 timepoints in date and time format."
     ]
    },
    {
     "cell_type": "markdown",
     "metadata": {},
     "source": [
      "#### Part 2\n",
      "\n",
      " 1. Create a NetCDF file containing a single data variable `o3` using the time axis created in part 1.  \n",
      " 1. Fill the data variable with a sin wave between 0 and $\\pi$ radians with a peak at 300 ppb.  Plot the resulting variable using `pyplot.plot()`.\n",
      " 1. Add noise of $+/- 10 \\text{ppb}$ to the data using the function `np.random.normal()`. Plot the resulting variable using `pyplot.plot()`."
     ]
    },
    {
     "cell_type": "markdown",
     "metadata": {},
     "source": [
      "#### Part 3\n",
      "\n",
      "1. Add CF-Metadata **TODO: what metadata?**\n",
      "2. Check the CF-compliance of your file with the ``cf-checker`` command.  What extra metadata is required?\n",
      "3. Make your file CF-compliant"
     ]
    },
    {
     "cell_type": "heading",
     "level": 1,
     "metadata": {},
     "source": [
      "Solutions"
     ]
    },
    {
     "cell_type": "markdown",
     "metadata": {},
     "source": [
      "## Solution 1.1\n",
      "\n",
      "#### Part 1\n",
      "\n",
      "See presented material.\n",
      "\n",
      "#### Part 2"
     ]
    },
    {
     "cell_type": "code",
     "collapsed": false,
     "input": [
      "tut_xy = (x, y)\n",
      "x = np.linspace(-10, 10)\n",
      "y = x**3\n",
      "plot(x, y, 'gx-')\n",
      "(x, y) = tut_xy"
     ],
     "language": "python",
     "metadata": {},
     "outputs": [
      {
       "metadata": {},
       "output_type": "display_data",
       "png": "[encoded data removed]",
       "text": [
        "<matplotlib.figure.Figure at 0x104956090>"
       ]
      }
     ],
     "prompt_number": 21
    },
    {
     "cell_type": "markdown",
     "metadata": {},
     "source": [
      "## Solution 1.2\n",
      "\n",
      "#### Part 1"
     ]
    },
    {
     "cell_type": "code",
     "collapsed": false,
     "input": [
      "from matplotlib import pyplot as plt\n",
      "\n",
      "x = np.linspace(-5, 5, 40)\n",
      "y = x**2\n",
      "fig, axis = plt.subplots(1)\n",
      "axis.plot(x, y, label='$y_1 = x^2$')\n",
      "axis.plot(x, x + 6, label='$y_2 = x + 6$')\n",
      "axis.legend(loc='upper center')\n",
      "axis.set_xlabel('$x$')\n",
      "axis.set_ylabel('$y$')\n",
      "fig.savefig('data/ex_1.2.pdf')"
     ],
     "language": "python",
     "metadata": {},
     "outputs": [
      {
       "metadata": {},
       "output_type": "display_data",
       "png": "[encoded data removed]",
       "text": [
        "<matplotlib.figure.Figure at 0x103c98250>"
       ]
      }
     ],
     "prompt_number": 5
    },
    {
     "cell_type": "markdown",
     "metadata": {},
     "source": [
      "#### Part 2"
     ]
    },
    {
     "cell_type": "code",
     "collapsed": false,
     "input": [
      "fig, axes = plt.subplots(1, 2)\n",
      "\n",
      "# [(xlim, ylim), ...]\n",
      "regions = [((-3, -1), (0, 5)),\n",
      "           ((2, 4), (5, 10))]\n",
      "\n",
      "for axis, (xlim, ylim) in zip(axes, regions):\n",
      "    axis.plot(x, y)\n",
      "    axis.plot(x, x + 6)\n",
      "    axis.set_xlim(xlim)\n",
      "    axis.set_ylim(ylim)\n",
      "    axis.set_xlabel('$x$')\n",
      "    axis.set_ylabel('$y$')\n",
      "    axis.grid()\n",
      "    \n",
      "fig.tight_layout()"
     ],
     "language": "python",
     "metadata": {},
     "outputs": [
      {
       "metadata": {},
       "output_type": "display_data",
       "png": "[encoded data removed]",
       "text": [
        "<matplotlib.figure.Figure at 0x103cb80d0>"
       ]
      }
     ],
     "prompt_number": 6
    },
    {
     "cell_type": "markdown",
     "metadata": {},
     "source": [
      "The plots indicate intersections at $x=-2$ and $x=3$, consistent with $y = (x + 2)(x - 3) = x^2 - x - 6$."
     ]
    },
    {
     "cell_type": "markdown",
     "metadata": {},
     "source": [
      "## Solution 2.1\n",
      "\n",
      "### Part 1"
     ]
    },
    {
     "cell_type": "code",
     "collapsed": false,
     "input": [
      "print np.arange(20) + 1\n",
      "print np.arange(0, 30, 3)\n",
      "print np.linspace(0, 1, 8)\n",
      "n = np.arange(10) + 1\n",
      "print 2*n + n**2"
     ],
     "language": "python",
     "metadata": {},
     "outputs": [
      {
       "output_type": "stream",
       "stream": "stdout",
       "text": [
        "[ 1  2  3  4  5  6  7  8  9 10 11 12 13 14 15 16 17 18 19 20]\n",
        "[ 0  3  6  9 12 15 18 21 24 27]\n",
        "[ 0.          0.14285714  0.28571429  0.42857143  0.57142857  0.71428571\n",
        "  0.85714286  1.        ]\n",
        "[  3   8  15  24  35  48  63  80  99 120]\n"
       ]
      }
     ],
     "prompt_number": 7
    },
    {
     "cell_type": "markdown",
     "metadata": {},
     "source": [
      "### Part 2"
     ]
    },
    {
     "cell_type": "code",
     "collapsed": false,
     "input": [
      "A = np.arange(1, 9)\n",
      "A = A.reshape(2,4)\n",
      "print A"
     ],
     "language": "python",
     "metadata": {},
     "outputs": [
      {
       "output_type": "stream",
       "stream": "stdout",
       "text": [
        "[[1 2 3 4]\n",
        " [5 6 7 8]]\n"
       ]
      }
     ],
     "prompt_number": 8
    },
    {
     "cell_type": "code",
     "collapsed": false,
     "input": [
      "B = np.array([1,2])\n",
      "print B"
     ],
     "language": "python",
     "metadata": {},
     "outputs": [
      {
       "output_type": "stream",
       "stream": "stdout",
       "text": [
        "[1 2]\n"
       ]
      }
     ],
     "prompt_number": 9
    },
    {
     "cell_type": "code",
     "collapsed": false,
     "input": [
      "print A + B.reshape((2,1))"
     ],
     "language": "python",
     "metadata": {},
     "outputs": [
      {
       "output_type": "stream",
       "stream": "stdout",
       "text": [
        "[[ 2  3  4  5]\n",
        " [ 7  8  9 10]]\n"
       ]
      }
     ],
     "prompt_number": 10
    },
    {
     "cell_type": "heading",
     "level": 2,
     "metadata": {},
     "source": [
      "Solution 2.2"
     ]
    },
    {
     "cell_type": "markdown",
     "metadata": {},
     "source": [
      "### Part 1"
     ]
    },
    {
     "cell_type": "code",
     "collapsed": false,
     "input": [
      "x = np.linspace(0, 3, 10)\n",
      "y = x**2"
     ],
     "language": "python",
     "metadata": {
      "slideshow": {
       "slide_type": "skip"
      }
     },
     "outputs": [],
     "prompt_number": 11
    },
    {
     "cell_type": "markdown",
     "metadata": {},
     "source": [
      "### Part 2"
     ]
    },
    {
     "cell_type": "code",
     "collapsed": false,
     "input": [
      "y[1:] + y[:-1]"
     ],
     "language": "python",
     "metadata": {
      "slideshow": {
       "slide_type": "skip"
      }
     },
     "outputs": [
      {
       "metadata": {},
       "output_type": "pyout",
       "prompt_number": 12,
       "text": [
        "array([  0.11111111,   0.55555556,   1.44444444,   2.77777778,\n",
        "         4.55555556,   6.77777778,   9.44444444,  12.55555556,  16.11111111])"
       ]
      }
     ],
     "prompt_number": 12
    },
    {
     "cell_type": "markdown",
     "metadata": {},
     "source": [
      "### Part 3"
     ]
    },
    {
     "cell_type": "code",
     "collapsed": false,
     "input": [
      "def trapz(x, y):\n",
      "    dx = x[1:] - x[:-1]\n",
      "    dy = y[1:] + y[:-1]\n",
      "    return np.sum(dx * dy) / 2"
     ],
     "language": "python",
     "metadata": {
      "slideshow": {
       "slide_type": "skip"
      }
     },
     "outputs": [],
     "prompt_number": 22
    },
    {
     "cell_type": "markdown",
     "metadata": {},
     "source": [
      "### Part 4"
     ]
    },
    {
     "cell_type": "code",
     "collapsed": false,
     "input": [
      "trapz(x, y)"
     ],
     "language": "python",
     "metadata": {
      "slideshow": {
       "slide_type": "skip"
      }
     },
     "outputs": [
      {
       "metadata": {},
       "output_type": "pyout",
       "prompt_number": 23,
       "text": [
        "9.0555555555555554"
       ]
      }
     ],
     "prompt_number": 23
    },
    {
     "cell_type": "markdown",
     "metadata": {},
     "source": [
      "### Part 5"
     ]
    },
    {
     "cell_type": "code",
     "collapsed": false,
     "input": [
      "# Solution 2.2.5\n",
      "import scipy.integrate\n",
      "\n",
      "scipy.integrate.trapz(y, x)"
     ],
     "language": "python",
     "metadata": {
      "slideshow": {
       "slide_type": "skip"
      }
     },
     "outputs": [
      {
       "metadata": {},
       "output_type": "pyout",
       "prompt_number": 15,
       "text": [
        "9.0555555555555554"
       ]
      }
     ],
     "prompt_number": 15
    },
    {
     "cell_type": "heading",
     "level": 2,
     "metadata": {},
     "source": [
      "Solution 3"
     ]
    },
    {
     "cell_type": "markdown",
     "metadata": {},
     "source": [
      "### Part 1"
     ]
    },
    {
     "cell_type": "code",
     "collapsed": false,
     "input": [
      "from netcdftime import num2date, date2num\n",
      "from datetime import datetime, timedelta\n",
      "\n",
      "dates = []\n",
      "units = 'seconds since 2013-03-19 00:00:00'\n",
      "dt = datetime(2013, 3, 19, 0, 0, 0)\n",
      "while dt < datetime(2013, 3, 19, 12, 0, 0):\n",
      "    dt = dt + timedelta(minutes=5)\n",
      "    dates.append(dt)\n",
      "    \n",
      "times = date2num(dates, units=units)\n",
      "print num2date(times[:5], units)\n",
      "print num2date(times[-5:], units)"
     ],
     "language": "python",
     "metadata": {},
     "outputs": [
      {
       "output_type": "stream",
       "stream": "stdout",
       "text": [
        "[2013-03-19 00:05:00 2013-03-19 00:10:00 2013-03-19 00:15:00\n",
        " 2013-03-19 00:20:00 2013-03-19 00:25:00]\n",
        "[2013-03-19 11:40:00 2013-03-19 11:45:00 2013-03-19 11:50:00\n",
        " 2013-03-19 11:55:00 2013-03-19 12:00:00]\n"
       ]
      }
     ],
     "prompt_number": 16
    },
    {
     "cell_type": "markdown",
     "metadata": {},
     "source": [
      "### Part 2"
     ]
    },
    {
     "cell_type": "code",
     "collapsed": false,
     "input": [
      "! rm data/ex5.nc"
     ],
     "language": "python",
     "metadata": {},
     "outputs": [],
     "prompt_number": 25
    },
    {
     "cell_type": "code",
     "collapsed": false,
     "input": [
      "from netCDF4 import Dataset\n",
      "\n",
      "# 1.\n",
      "d = Dataset('data/ex5.nc', 'w', format='NETCDF4_CLASSIC')\n",
      "time_d = d.createDimension('time', len(times))\n",
      "time_v = d.createVariable('time', np.int32, ('time', ))\n",
      "o3_v = d.createVariable('o3', np.float64, ('time', ))"
     ],
     "language": "python",
     "metadata": {},
     "outputs": [],
     "prompt_number": 26
    },
    {
     "cell_type": "code",
     "collapsed": false,
     "input": [
      "# 2.\n",
      "o3_v[:] = sin(np.linspace(0, pi, len(times))) * 300\n",
      "plot(o3_v)"
     ],
     "language": "python",
     "metadata": {},
     "outputs": [
      {
       "metadata": {},
       "output_type": "pyout",
       "prompt_number": 27,
       "text": [
        "[<matplotlib.lines.Line2D at 0x104a8d290>]"
       ]
      },
      {
       "metadata": {},
       "output_type": "display_data",
       "png": "[encoded data removed]",
       "text": [
        "<matplotlib.figure.Figure at 0x104a86250>"
       ]
      }
     ],
     "prompt_number": 27
    },
    {
     "cell_type": "code",
     "collapsed": false,
     "input": [
      "# 3.\n",
      "o3_v[:] = o3_v + np.random.normal(size=len(times)) * 10\n",
      "plot(o3_v)"
     ],
     "language": "python",
     "metadata": {},
     "outputs": [
      {
       "metadata": {},
       "output_type": "pyout",
       "prompt_number": 28,
       "text": [
        "[<matplotlib.lines.Line2D at 0x104b2a890>]"
       ]
      },
      {
       "metadata": {},
       "output_type": "display_data",
       "png": "[encoded data removed]",
       "text": [
        "<matplotlib.figure.Figure at 0x103f21950>"
       ]
      }
     ],
     "prompt_number": 28
    },
    {
     "cell_type": "code",
     "collapsed": false,
     "input": [],
     "language": "python",
     "metadata": {},
     "outputs": [],
     "prompt_number": 20
    }
   ],
   "metadata": {}
  }
 ]
}